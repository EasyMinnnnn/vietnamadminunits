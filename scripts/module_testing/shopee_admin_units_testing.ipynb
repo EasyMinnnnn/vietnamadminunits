{
 "cells": [
  {
   "cell_type": "code",
   "execution_count": null,
   "id": "initial_id",
   "metadata": {
    "ExecuteTime": {
     "end_time": "2025-08-05T07:55:53.159287Z",
     "start_time": "2025-08-05T07:55:52.441153Z"
    },
    "collapsed": true
   },
   "outputs": [],
   "source": [
    "from vietnamadminunits.pandas import standardize_admin_unit_columns\n",
    "from vietnamadminunits.database import get_data\n",
    "import pandas as pd"
   ]
  },
  {
   "cell_type": "code",
   "execution_count": null,
   "id": "edbc07f91be239a6",
   "metadata": {
    "ExecuteTime": {
     "end_time": "2025-08-05T07:55:53.186118Z",
     "start_time": "2025-08-05T07:55:53.175394Z"
    }
   },
   "outputs": [],
   "source": [
    "df = pd.read_csv('data/shopee_admin_units.csv')"
   ]
  },
  {
   "cell_type": "code",
   "execution_count": null,
   "id": "510831871d5fa8ef",
   "metadata": {
    "ExecuteTime": {
     "end_time": "2025-08-05T07:55:55.768988Z",
     "start_time": "2025-08-05T07:55:53.667007Z"
    }
   },
   "outputs": [],
   "source": [
    "standardized_df = standardize_admin_unit_columns(df, province='province', district='district', ward='ward', parse_mode='LEGACY', short_name=False)"
   ]
  },
  {
   "cell_type": "code",
   "execution_count": null,
   "id": "f10aa08c775d8367",
   "metadata": {
    "ExecuteTime": {
     "end_time": "2025-08-05T07:55:55.785597Z",
     "start_time": "2025-08-05T07:55:55.779692Z"
    }
   },
   "outputs": [],
   "source": [
    "standardized_df"
   ]
  },
  {
   "cell_type": "code",
   "execution_count": null,
   "id": "9a0ab049d0794df2",
   "metadata": {
    "ExecuteTime": {
     "end_time": "2025-08-05T07:55:56.005900Z",
     "start_time": "2025-08-05T07:55:55.886972Z"
    }
   },
   "outputs": [],
   "source": [
    "standardized_df[standardized_df['standardized_ward'].isna()].sort_values(by=['province', 'district', 'ward']).to_excel('tmp/shopee_admin_units.xlsx', index=False)"
   ]
  },
  {
   "cell_type": "code",
   "execution_count": null,
   "id": "55dd47ad1b468742",
   "metadata": {},
   "outputs": [],
   "source": [
    "df = pd.DataFrame(get_data(table='admin_units_legacy'))"
   ]
  },
  {
   "cell_type": "code",
   "execution_count": null,
   "id": "c0bd28e1ee7a4939",
   "metadata": {},
   "outputs": [],
   "source": [
    "df[(df['provinceKey'].str.contains('hue')) & (df['districtKey'].str.contains('thuanhoa'))][['province', 'district', 'districtShort', 'provinceKey', 'districtKey', 'ward', 'wardKey', 'wardKeywords']].drop_duplicates()"
   ]
  },
  {
   "cell_type": "code",
   "execution_count": null,
   "id": "f44d5d45",
   "metadata": {},
   "outputs": [],
   "source": [
    "df[(df['provinceKey'].str.contains('hue')) & (df['wardKey'].str.contains('phuongphuthuan'))][['province', 'district', 'districtShort', 'provinceKey', 'districtKey', 'ward', 'wardKey', 'wardKeywords']].drop_duplicates()"
   ]
  },
  {
   "cell_type": "code",
   "execution_count": null,
   "id": "8780587a",
   "metadata": {},
   "outputs": [],
   "source": []
  }
 ],
 "metadata": {
  "kernelspec": {
   "display_name": "base",
   "language": "python",
   "name": "python3"
  },
  "language_info": {
   "codemirror_mode": {
    "name": "ipython",
    "version": 3
   },
   "file_extension": ".py",
   "mimetype": "text/x-python",
   "name": "python",
   "nbconvert_exporter": "python",
   "pygments_lexer": "ipython3",
   "version": "3.12.7"
  }
 },
 "nbformat": 4,
 "nbformat_minor": 5
}

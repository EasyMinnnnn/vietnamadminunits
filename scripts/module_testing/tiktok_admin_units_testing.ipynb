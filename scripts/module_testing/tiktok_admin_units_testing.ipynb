{
 "cells": [
  {
   "cell_type": "code",
   "id": "initial_id",
   "metadata": {
    "collapsed": true,
    "ExecuteTime": {
     "end_time": "2025-08-04T08:32:47.161058Z",
     "start_time": "2025-08-04T08:32:45.698216Z"
    }
   },
   "source": [
    "import pandas as pd\n",
    "\n",
    "from vietnamadminunits.pandas import standardize_admin_unit_columns\n",
    "from vietnamadminunits import parse_address, ParseMode, convert_address\n",
    "from vietnamadminunits.database import get_data\n",
    "\n",
    "from vietadminunits import parse_address as parse_address_legacy"
   ],
   "outputs": [],
   "execution_count": 1
  },
  {
   "metadata": {
    "ExecuteTime": {
     "end_time": "2025-08-04T08:38:00.426590Z",
     "start_time": "2025-08-04T08:38:00.421409Z"
    }
   },
   "cell_type": "code",
   "source": "df = pd.read_csv('data/tiktok_admin_units_contract.csv')",
   "id": "39d474383ddc36e4",
   "outputs": [],
   "execution_count": 20
  }
 ],
 "metadata": {
  "kernelspec": {
   "display_name": "Python [conda env:base] *",
   "language": "python",
   "name": "conda-base-py"
  },
  "language_info": {
   "codemirror_mode": {
    "name": "ipython",
    "version": 2
   },
   "file_extension": ".py",
   "mimetype": "text/x-python",
   "name": "python",
   "nbconvert_exporter": "python",
   "pygments_lexer": "ipython2",
   "version": "2.7.6"
  }
 },
 "nbformat": 4,
 "nbformat_minor": 5
}
